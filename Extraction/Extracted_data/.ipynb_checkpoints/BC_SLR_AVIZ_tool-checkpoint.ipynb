{
 "cells": [
  {
   "cell_type": "code",
   "execution_count": 7,
   "metadata": {
    "collapsed": true
   },
   "outputs": [],
   "source": [
    "import pandas as pd\n",
    "import matplotlib.pyplot as plt\n",
    "import seaborn as sns\n",
    "%matplotlib inline  "
   ]
  },
  {
   "cell_type": "code",
   "execution_count": 8,
   "metadata": {},
   "outputs": [],
   "source": [
    "\"\"\"\n",
    "This method splits the strings in RQs into a list of items.\n",
    "\n",
    "These items can be areas and subareas of research.\n",
    "\"\"\"\n",
    "\n",
    "def split_areas(input_data, lv1_sep = \";\"):\n",
    "    return input_data.split(lv1_sep)\n",
    "\n",
    "def _split_sub_areas(input_data, lv2_sep = \",\", area_sub_sep = \":\"):\n",
    "    split_result = input_data.split(lv2_sep)\n",
    "    if len(split_result) == 1:\n",
    "        return [input_data.strip()]\n",
    "    else:\n",
    "        sub_areas = []\n",
    "        area_name = split_result[0].split(area_sub_sep)[0].strip()\n",
    "        # The first item has the format area:subarea, while the rest does not have area.\n",
    "        # Try to split the string by : and grab the second part.\n",
    "        # If it is possible, then we are processing the first element.\n",
    "        # If we have error, it means we are processing the rest of the elements.\n",
    "        for sub in split_result:\n",
    "            try:\n",
    "                sub_areas.append(\"%s:%s\" % (area_name, sub.split(area_sub_sep)[1].strip().lower()))\n",
    "            except IndexError:\n",
    "                sub_areas.append(\"%s:%s\" % (area_name, sub.strip().lower()))\n",
    "        return sub_areas\n",
    "    \n",
    "def split_sub_areas(input_data, lv2_sep = \",\", area_sub_sep = \":\"):\n",
    "    split_result = input_data.split(lv2_sep)\n",
    "    sub_areas = []\n",
    "    \n",
    "    # Set the area name only if we can find the colon\n",
    "    area_name = \"\"\n",
    "    if split_result[0].find(\":\") != -1:\n",
    "        area_name = split_result[0].split(area_sub_sep)[0].strip()\n",
    "        \n",
    "    for sub in split_result:\n",
    "        sub_area = \"\"\n",
    "        \n",
    "        # The first item has the format area:subarea, while the rest does not have area.\n",
    "        # Try to split the string by : and grab the second part.\n",
    "        # If it is possible, then we are processing the first element.\n",
    "        # If we have error, it means we are processing the rest of the elements.\n",
    "        try:\n",
    "            sub_area = sub.split(area_sub_sep)[1].strip().lower()\n",
    "            \n",
    "        except IndexError:\n",
    "            sub_area = sub.strip().lower()        \n",
    "        # Return the sub_area as is if there is no area name\n",
    "        if area_name == \"\":\n",
    "            sub_areas.append(sub_area)\n",
    "        else:\n",
    "            sub_areas.append(\"%s:%s\" % (area_name, sub_area))\n",
    "        \n",
    "    return sub_areas\n",
    "\n",
    "def split_input_data(input_data, split_areas = split_areas, split_sub_areas = split_sub_areas):\n",
    "    results = []\n",
    "    areas = split_areas(input_data)\n",
    "    for area in areas:\n",
    "        results.extend(split_sub_areas(area))\n",
    "    return results"
   ]
  },
  {
   "cell_type": "code",
   "execution_count": 9,
   "metadata": {
    "collapsed": true
   },
   "outputs": [],
   "source": [
    "\"\"\"\n",
    "Create relation between papers and values of an RQ\n",
    "\"\"\"\n",
    "\n",
    "def create_relation_paper_RQ(raw_df, rq_name_in_df, rq_display_name):\n",
    "    # prepare an empty data frame\n",
    "    paper_ids = []\n",
    "    titles = []\n",
    "    years = []\n",
    "    venues = []\n",
    "    types = []\n",
    "    problem_areas = []\n",
    "    data = {\n",
    "        \"Paper ID\" : paper_ids,\n",
    "        \"Title\" : titles,\n",
    "        \"Year\" : years,\n",
    "        \"Venue\" : venues,\n",
    "        \"Type\" : types,\n",
    "        rq_display_name : problem_areas\n",
    "    }\n",
    "\n",
    "    # apply text split\n",
    "    rq_lists = raw_df[rq_name_in_df].apply(split_input_data)\n",
    "    \n",
    "\n",
    "    # construct the data frame\n",
    "    for i in range(len(rq_lists)):\n",
    "        for rq_value in rq_lists[i]:\n",
    "            paper_ids.append(raw_df[\"Paper ID\"][i])\n",
    "            titles.append(raw_df[\"Title\"][i])\n",
    "            years.append(raw_df[\"Year\"][i])\n",
    "            venues.append(raw_df[\"Venue\"][i])\n",
    "            types.append(raw_df[\"Type\"][i])\n",
    "            problem_areas.append(rq_value)\n",
    "\n",
    "\n",
    "    paper_rq_relation = pd.DataFrame(data)\n",
    "    paper_rq_relation.sort_values(rq_display_name)\n",
    "    return paper_rq_relation"
   ]
  },
  {
   "cell_type": "code",
   "execution_count": 10,
   "metadata": {
    "collapsed": true
   },
   "outputs": [],
   "source": [
    "def draw_countplot(data, column, size = (10, 8)):\n",
    "    sns.countplot(y = column, data = data, orient=\"v\", palette=\"coolwarm\", \n",
    "              order = paper_rq1_relation[column].value_counts().index)\n",
    "    ax1 = plt.gca()\n",
    "    ax1.yaxis.label.set_visible(False)\n",
    "    ax1.xaxis.label.set_visible(False)\n",
    "    fig = plt.gcf()\n",
    "    fig.set_size_inches(*size)\n",
    "    plt.show()"
   ]
  },
  {
   "cell_type": "code",
   "execution_count": 11,
   "metadata": {
    "collapsed": true
   },
   "outputs": [],
   "source": [
    "\"\"\"\n",
    "Creating relations between two RQs\n",
    "\"\"\"\n",
    "\n",
    "def create_relation(data, column_A_in_df, column_A_display, column_B_in_df, column_B_display):\n",
    "    column_A_lists = data[column_A_in_df].apply(split_input_data)\n",
    "    column_B_lists = data[column_B_in_df].apply(split_input_data)\n",
    "\n",
    "    relations_list = []\n",
    "    for i in range(len(column_A_lists)):\n",
    "        column_A_values = column_A_lists[i]\n",
    "        column_B_values = column_B_lists[i]\n",
    "        for column_A_value in column_A_values:\n",
    "            for column_B_value in column_B_values:\n",
    "                relations_list.append((column_A_value, column_B_value))\n",
    "    \n",
    "    # Create data frame. Each column holds items from one RQ\n",
    "    A, B = zip(*relations_list)\n",
    "    data = {\n",
    "        column_A_display : A,\n",
    "        column_B_display : B\n",
    "    }\n",
    "    return pd.DataFrame(data)\n"
   ]
  },
  {
   "cell_type": "code",
   "execution_count": 12,
   "metadata": {},
   "outputs": [
    {
     "ename": "NameError",
     "evalue": "name 'relation_df' is not defined",
     "output_type": "error",
     "traceback": [
      "\u001b[0;31m---------------------------------------------------------------------------\u001b[0m",
      "\u001b[0;31mNameError\u001b[0m                                 Traceback (most recent call last)",
      "\u001b[0;32m<ipython-input-12-adabe4aa94ad>\u001b[0m in \u001b[0;36m<module>\u001b[0;34m()\u001b[0m\n\u001b[1;32m     20\u001b[0m     \u001b[0;32mreturn\u001b[0m \u001b[0mG\u001b[0m\u001b[0;34m\u001b[0m\u001b[0m\n\u001b[1;32m     21\u001b[0m \u001b[0;34m\u001b[0m\u001b[0m\n\u001b[0;32m---> 22\u001b[0;31m \u001b[0mG\u001b[0m \u001b[0;34m=\u001b[0m \u001b[0mload\u001b[0m\u001b[0;34m(\u001b[0m\u001b[0mrelation_df\u001b[0m\u001b[0;34m)\u001b[0m\u001b[0;34m\u001b[0m\u001b[0m\n\u001b[0m\u001b[1;32m     23\u001b[0m \u001b[0mfig\u001b[0m \u001b[0;34m=\u001b[0m \u001b[0mplt\u001b[0m\u001b[0;34m.\u001b[0m\u001b[0mgcf\u001b[0m\u001b[0;34m(\u001b[0m\u001b[0;34m)\u001b[0m\u001b[0;34m\u001b[0m\u001b[0m\n\u001b[1;32m     24\u001b[0m \u001b[0mfig\u001b[0m\u001b[0;34m.\u001b[0m\u001b[0mset_size_inches\u001b[0m\u001b[0;34m(\u001b[0m\u001b[0;36m10\u001b[0m\u001b[0;34m,\u001b[0m \u001b[0;36m8\u001b[0m\u001b[0;34m)\u001b[0m\u001b[0;34m\u001b[0m\u001b[0m\n",
      "\u001b[0;31mNameError\u001b[0m: name 'relation_df' is not defined"
     ]
    }
   ],
   "source": [
    "import networkx as nx\n",
    "\n",
    "def load(df):\n",
    "    G = nx.Graph()\n",
    "    count = 0\n",
    "    for row in df.iterrows():\n",
    "        node_A = row[1][0]\n",
    "        node_B = row[1][1]\n",
    "        if G.has_edge(node_A, node_B):\n",
    "            # we added this one before, just increase the weight by one\n",
    "            G[node_A][node_B]['weight'] += 1\n",
    "        else:\n",
    "            # new edge. add with weight=1\n",
    "            G.add_edge(node_A, node_B, weight=1)\n",
    "        count += 1\n",
    "        \"\"\"\n",
    "        if count == 5:\n",
    "            break\n",
    "        \"\"\"\n",
    "    return G"
   ]
  },
  {
   "cell_type": "code",
   "execution_count": null,
   "metadata": {},
   "outputs": [],
   "source": [
    "\"\"\"\n",
    "Loads the extracted data\n",
    "\"\"\"\n",
    "\n",
    "raw_path = \"extraction_Q1_45_23-11.xlsx\"\n",
    "raw_df = pd.read_excel(raw_path)\n",
    "raw_df"
   ]
  },
  {
   "cell_type": "code",
   "execution_count": null,
   "metadata": {},
   "outputs": [],
   "source": [
    "raw_df.info()"
   ]
  },
  {
   "cell_type": "code",
   "execution_count": null,
   "metadata": {},
   "outputs": [],
   "source": [
    "\"\"\"\n",
    "Countplot of problem areas\n",
    "\"\"\"\n",
    "paper_rq1_relation = create_relation_paper_RQ(raw_df, \"RQ1: Problem Area\", \"RQ1_Problem_Area\")\n",
    "draw_countplot(paper_rq1_relation, \"RQ1_Problem_Area\", size = (10,5))"
   ]
  },
  {
   "cell_type": "code",
   "execution_count": null,
   "metadata": {},
   "outputs": [],
   "source": [
    "\"\"\"\n",
    "Countplot of technical issues\n",
    "\"\"\"\n",
    "paper_rq1_relation = create_relation_paper_RQ(raw_df, \"RQ1: Technical Issue\", \"RQ1_Technical_Issue\")\n",
    "draw_countplot(paper_rq1_relation, \"RQ1_Technical_Issue\")"
   ]
  },
  {
   "cell_type": "code",
   "execution_count": null,
   "metadata": {},
   "outputs": [],
   "source": [
    "\"\"\"\n",
    "Create relation between RQ1: Problem area, and RQ1: Technical issues\n",
    "\"\"\"\n",
    "relation_df = create_relation(data = raw_df, column_A_in_df = \"RQ1: Problem Area\", column_A_display = \"RQ1_Problem_Area\", column_B_in_df = \"RQ1: Technical Issue\", column_B_display = \"RQ1_Technical_Issue\")"
   ]
  },
  {
   "cell_type": "code",
   "execution_count": null,
   "metadata": {
    "collapsed": true
   },
   "outputs": [],
   "source": [
    "G = load(relation_df)\n",
    "fig = plt.gcf()\n",
    "fig.set_size_inches(10, 8)\n",
    "nx.draw(G, with_labels=True)\n",
    "\n",
    "plt.show()"
   ]
  }
 ],
 "metadata": {
  "kernelspec": {
   "display_name": "Python 3",
   "language": "python",
   "name": "python3"
  },
  "language_info": {
   "codemirror_mode": {
    "name": "ipython",
    "version": 3
   },
   "file_extension": ".py",
   "mimetype": "text/x-python",
   "name": "python",
   "nbconvert_exporter": "python",
   "pygments_lexer": "ipython3",
   "version": "3.6.3"
  }
 },
 "nbformat": 4,
 "nbformat_minor": 2
}
