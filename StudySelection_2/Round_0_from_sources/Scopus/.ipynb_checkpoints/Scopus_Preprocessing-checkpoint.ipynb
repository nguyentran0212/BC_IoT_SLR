{
 "cells": [
  {
   "cell_type": "code",
   "execution_count": 1,
   "metadata": {
    "scrolled": true
   },
   "outputs": [],
   "source": [
    "import pandas as pd\n",
    "from fuzzywuzzy import fuzz"
   ]
  },
  {
   "cell_type": "code",
   "execution_count": 4,
   "metadata": {},
   "outputs": [],
   "source": [
    "scopusDF = pd.read_csv('Scopus_01052019_01012020.csv', nrows=20)"
   ]
  },
  {
   "cell_type": "code",
   "execution_count": 5,
   "metadata": {},
   "outputs": [
    {
     "data": {
      "text/plain": [
       "0     This paper introduces a fully decentralized lo...\n",
       "1     Social sustainability is a major concern in gl...\n",
       "2     This paper aims to explain the implementation ...\n",
       "3     Real-time tracking and tracing are important i...\n",
       "4     Recently, numerous exploitations and attacks i...\n",
       "5     Product lifecycle management (PLM) aims to sea...\n",
       "6     One of the biggest challenges in political may...\n",
       "7     The Blockchain is a novel technology with a wi...\n",
       "8     Through the propagation of technology in recen...\n",
       "9     Sensor nodes play a major role in IoT environm...\n",
       "10    Today's globalized and highly competitive worl...\n",
       "11    IoT has emerged as an unprecedented paradigm w...\n",
       "12    Blockchain enables users to be autonomous with...\n",
       "13    Currently, significant amounts of IoT data are...\n",
       "14                              [No abstract available]\n",
       "15    The adoption of emerging technological trends ...\n",
       "16    Industrial Internet of Things (IIoT) refers to...\n",
       "17    In recent years, the growing popularity of Int...\n",
       "18    Blockchain is a distributed, decentralized and...\n",
       "19    Compared with single cloud service providers, ...\n",
       "Name: Abstract, dtype: object"
      ]
     },
     "execution_count": 5,
     "metadata": {},
     "output_type": "execute_result"
    }
   ],
   "source": [
    "scopusDF[\"Abstract\"]"
   ]
  },
  {
   "cell_type": "code",
   "execution_count": 16,
   "metadata": {},
   "outputs": [
    {
     "data": {
      "text/plain": [
       "0     False\n",
       "1     False\n",
       "2     False\n",
       "3     False\n",
       "4     False\n",
       "5     False\n",
       "6     False\n",
       "7     False\n",
       "8     False\n",
       "9     False\n",
       "10    False\n",
       "11    False\n",
       "12    False\n",
       "13    False\n",
       "14     True\n",
       "15    False\n",
       "16    False\n",
       "17     True\n",
       "18    False\n",
       "19     True\n",
       "Name: Abstract, dtype: bool"
      ]
     },
     "execution_count": 16,
     "metadata": {},
     "output_type": "execute_result"
    }
   ],
   "source": [
    "surveyOrNA = scopusDF[\"Abstract\"].apply(lambda abstract : '[no abstract available]' in abstract.lower() or 'review' in abstract.lower() or 'survey' in abstract.lower())"
   ]
  },
  {
   "cell_type": "code",
   "execution_count": 20,
   "metadata": {},
   "outputs": [
    {
     "data": {
      "text/plain": [
       "'Compared with single cloud service providers, cloud exchange provides users with lower price and flexible options. However, conventional cloud exchange markets are suffering from a number of challenges such as central architecture being vulnerable to malicious attacks and cheating behaviours of third-party auctioneers. The recent advances in blockchain technologies bring the opportunities to overcome the limitations of cloud exchange. However, the integration of blockchain with cloud exchange is still in infancy and extensive research efforts are needed to tackle a number of research challenges. To bridge this gap, this paper presents an overview on using blockchain for cloud exchange. In particular, we first give an overview on cloud exchange. We then briefly survey blockchain technology and discuss the issues on using blockchain for cloud exchange in aspects of security, privacy, reputation systems and transaction management. Finally, we present the open research issues in this promising area. © 2019'"
      ]
     },
     "execution_count": 20,
     "metadata": {},
     "output_type": "execute_result"
    }
   ],
   "source": [
    "scopusDF[\"Abstract\"][19]"
   ]
  }
 ],
 "metadata": {
  "kernelspec": {
   "display_name": "Python 3",
   "language": "python",
   "name": "python3"
  },
  "language_info": {
   "codemirror_mode": {
    "name": "ipython",
    "version": 3
   },
   "file_extension": ".py",
   "mimetype": "text/x-python",
   "name": "python",
   "nbconvert_exporter": "python",
   "pygments_lexer": "ipython3",
   "version": "3.7.6"
  }
 },
 "nbformat": 4,
 "nbformat_minor": 2
}
