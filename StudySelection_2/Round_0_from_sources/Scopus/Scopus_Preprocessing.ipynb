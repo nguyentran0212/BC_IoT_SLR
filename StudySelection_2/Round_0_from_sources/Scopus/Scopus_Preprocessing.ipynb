{
 "cells": [
  {
   "cell_type": "code",
   "execution_count": 1,
   "metadata": {
    "scrolled": true
   },
   "outputs": [],
   "source": [
    "import pandas as pd\n",
    "from fuzzywuzzy import fuzz"
   ]
  },
  {
   "cell_type": "code",
   "execution_count": 40,
   "metadata": {},
   "outputs": [],
   "source": [
    "scopusDF = pd.read_csv('Scopus_01052019_01012020.csv')"
   ]
  },
  {
   "cell_type": "code",
   "execution_count": 41,
   "metadata": {},
   "outputs": [
    {
     "data": {
      "text/plain": [
       "0      This paper introduces a fully decentralized lo...\n",
       "1      Social sustainability is a major concern in gl...\n",
       "2      This paper aims to explain the implementation ...\n",
       "3      Real-time tracking and tracing are important i...\n",
       "4      Recently, numerous exploitations and attacks i...\n",
       "                             ...                        \n",
       "463    Personal data sharing with service providers r...\n",
       "464    The financial services sector in India is faci...\n",
       "465    The wide diffusion of IoT and devices such as ...\n",
       "466    Smart Manufacturing (SM) enables companies to ...\n",
       "467    In our generation the information systems evol...\n",
       "Name: Abstract, Length: 468, dtype: object"
      ]
     },
     "execution_count": 41,
     "metadata": {},
     "output_type": "execute_result"
    }
   ],
   "source": [
    "scopusDF[\"Abstract\"]"
   ]
  },
  {
   "cell_type": "code",
   "execution_count": 42,
   "metadata": {},
   "outputs": [],
   "source": [
    "surveyOrNA = scopusDF[\"Abstract\"].apply(lambda abstract : '[no abstract available]' in abstract.lower() or 'review' in abstract.lower() or 'survey' in abstract.lower())"
   ]
  },
  {
   "cell_type": "code",
   "execution_count": 43,
   "metadata": {},
   "outputs": [
    {
     "data": {
      "text/plain": [
       "False    402\n",
       "True      66\n",
       "Name: Abstract, dtype: int64"
      ]
     },
     "execution_count": 43,
     "metadata": {},
     "output_type": "execute_result"
    }
   ],
   "source": [
    "surveyOrNA.value_counts()"
   ]
  },
  {
   "cell_type": "code",
   "execution_count": 44,
   "metadata": {},
   "outputs": [],
   "source": [
    "scopusPrimaryStudy = scopusDF[surveyOrNA.apply(lambda value : not value)]"
   ]
  },
  {
   "cell_type": "code",
   "execution_count": 45,
   "metadata": {},
   "outputs": [
    {
     "name": "stdout",
     "output_type": "stream",
     "text": [
      "<class 'pandas.core.frame.DataFrame'>\n",
      "Int64Index: 402 entries, 0 to 465\n",
      "Data columns (total 24 columns):\n",
      " #   Column                     Non-Null Count  Dtype  \n",
      "---  ------                     --------------  -----  \n",
      " 0   Authors                    402 non-null    object \n",
      " 1   Author(s) ID               402 non-null    object \n",
      " 2   Title                      402 non-null    object \n",
      " 3   Year                       402 non-null    int64  \n",
      " 4   Source title               402 non-null    object \n",
      " 5   Volume                     209 non-null    object \n",
      " 6   Issue                      117 non-null    object \n",
      " 7   Art. No.                   274 non-null    object \n",
      " 8   Page start                 292 non-null    object \n",
      " 9   Page end                   292 non-null    object \n",
      " 10  Page count                 11 non-null     float64\n",
      " 11  Cited by                   241 non-null    float64\n",
      " 12  DOI                        375 non-null    object \n",
      " 13  Link                       402 non-null    object \n",
      " 14  Affiliations               390 non-null    object \n",
      " 15  Authors with affiliations  391 non-null    object \n",
      " 16  Abstract                   402 non-null    object \n",
      " 17  Author Keywords            362 non-null    object \n",
      " 18  Index Keywords             347 non-null    object \n",
      " 19  Document Type              402 non-null    object \n",
      " 20  Publication Stage          402 non-null    object \n",
      " 21  Access Type                73 non-null     object \n",
      " 22  Source                     402 non-null    object \n",
      " 23  EID                        402 non-null    object \n",
      "dtypes: float64(2), int64(1), object(21)\n",
      "memory usage: 78.5+ KB\n"
     ]
    }
   ],
   "source": [
    "scopusPrimaryStudy.info()"
   ]
  },
  {
   "cell_type": "code",
   "execution_count": 46,
   "metadata": {},
   "outputs": [],
   "source": [
    "scopusPrimaryStudy.to_csv('Scopus_01052019_01012020_primary.csv')"
   ]
  }
 ],
 "metadata": {
  "kernelspec": {
   "display_name": "Python 3",
   "language": "python",
   "name": "python3"
  },
  "language_info": {
   "codemirror_mode": {
    "name": "ipython",
    "version": 3
   },
   "file_extension": ".py",
   "mimetype": "text/x-python",
   "name": "python",
   "nbconvert_exporter": "python",
   "pygments_lexer": "ipython3",
   "version": "3.7.6"
  }
 },
 "nbformat": 4,
 "nbformat_minor": 2
}
